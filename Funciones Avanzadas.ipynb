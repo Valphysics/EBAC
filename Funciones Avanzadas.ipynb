{
  "nbformat": 4,
  "nbformat_minor": 0,
  "metadata": {
    "colab": {
      "provenance": []
    },
    "kernelspec": {
      "name": "python3",
      "display_name": "Python 3"
    },
    "language_info": {
      "name": "python"
    }
  },
  "cells": [
    {
      "cell_type": "code",
      "execution_count": 1,
      "metadata": {
        "colab": {
          "base_uri": "https://localhost:8080/"
        },
        "id": "N413SdyLLlLj",
        "outputId": "43900b5b-44f8-4b9d-9db5-a0d664b395c9"
      },
      "outputs": [
        {
          "output_type": "stream",
          "name": "stdout",
          "text": [
            "25\n"
          ]
        }
      ],
      "source": [
        "#a\n",
        "def rc(x):\n",
        "    return x**2\n",
        "print(rc(5))"
      ]
    },
    {
      "cell_type": "code",
      "source": [
        "#con lambda\n",
        "raizcuadrada = lambda x: x**2\n",
        "raizcuadrada(5)"
      ],
      "metadata": {
        "colab": {
          "base_uri": "https://localhost:8080/"
        },
        "id": "Lvd3CHbsLltg",
        "outputId": "d536a44d-38d1-4c86-c61b-f47f83c16058"
      },
      "execution_count": 2,
      "outputs": [
        {
          "output_type": "execute_result",
          "data": {
            "text/plain": [
              "25"
            ]
          },
          "metadata": {},
          "execution_count": 2
        }
      ]
    },
    {
      "cell_type": "code",
      "source": [
        "#b\n",
        "cadena=['ciao','buonanotte','come','stai', 'piacere']\n",
        "listaa=[]\n",
        "for elemento in cadena:\n",
        "    listaa.append(len(elemento))\n",
        "print(listaa)"
      ],
      "metadata": {
        "colab": {
          "base_uri": "https://localhost:8080/"
        },
        "id": "GZbwcs6YLm6-",
        "outputId": "2350f932-42d6-4734-9be4-81323f5a596a"
      },
      "execution_count": 3,
      "outputs": [
        {
          "output_type": "stream",
          "name": "stdout",
          "text": [
            "[4, 10, 4, 4, 7]\n"
          ]
        }
      ]
    },
    {
      "cell_type": "code",
      "source": [
        "#con map\n",
        "cadena=['ciao','buonanotte','come','stai', 'piacere']\n",
        "list(map(len, cadena))"
      ],
      "metadata": {
        "colab": {
          "base_uri": "https://localhost:8080/"
        },
        "id": "QsYmlgBDLoTS",
        "outputId": "38b04c46-cfc6-4cfa-dd07-3e9789220279"
      },
      "execution_count": 4,
      "outputs": [
        {
          "output_type": "execute_result",
          "data": {
            "text/plain": [
              "[4, 10, 4, 4, 7]"
            ]
          },
          "metadata": {},
          "execution_count": 4
        }
      ]
    },
    {
      "cell_type": "code",
      "source": [
        "#d\n",
        "lista=[2,3,4,5,6,7,8]\n",
        "prod=1\n",
        "for n in lista:\n",
        "    prod = prod *n\n",
        "prod\n"
      ],
      "metadata": {
        "colab": {
          "base_uri": "https://localhost:8080/"
        },
        "id": "HWjtW77SLp-R",
        "outputId": "c78e4df6-fa65-4312-ee30-c52c7537a0f0"
      },
      "execution_count": 5,
      "outputs": [
        {
          "output_type": "execute_result",
          "data": {
            "text/plain": [
              "40320"
            ]
          },
          "metadata": {},
          "execution_count": 5
        }
      ]
    },
    {
      "cell_type": "code",
      "source": [
        "#con reduce\n",
        "from functools import reduce\n",
        "\n",
        "lista=[2,3,4,5,6,7,8]\n",
        "reduce(lambda a,b: a*b, lista)"
      ],
      "metadata": {
        "colab": {
          "base_uri": "https://localhost:8080/"
        },
        "id": "bfSsi-edLrnd",
        "outputId": "dad1814c-89e0-437c-a6ad-53323e690016"
      },
      "execution_count": 6,
      "outputs": [
        {
          "output_type": "execute_result",
          "data": {
            "text/plain": [
              "40320"
            ]
          },
          "metadata": {},
          "execution_count": 6
        }
      ]
    },
    {
      "cell_type": "code",
      "source": [
        "#e\n",
        "listado=['HOLA', 'ciao', '3', 'V', '200', 'hi']\n",
        "mayusc=[]\n",
        "num=[]\n",
        "for w in listado:\n",
        "    if w.isupper():\n",
        "        mayusc.append(w)\n",
        "    elif w.isdigit():\n",
        "       num.append(w)\n",
        "print(f'Las mayusculas son: {mayusc} \\nlos numeros son: {num}')"
      ],
      "metadata": {
        "colab": {
          "base_uri": "https://localhost:8080/"
        },
        "id": "kNZnCIVsLta1",
        "outputId": "75194ce5-0cc3-4ad7-cded-536d1a6fda99"
      },
      "execution_count": 7,
      "outputs": [
        {
          "output_type": "stream",
          "name": "stdout",
          "text": [
            "Las mayusculas son: ['HOLA', 'V'] \n",
            "los numeros son: ['3', '200']\n"
          ]
        }
      ]
    },
    {
      "cell_type": "code",
      "source": [
        "#con filter\n",
        "listado=['HOLA', 'ciao', '3', 'V', '200', 'hi']\n",
        "mayusculas= list(filter(str.isupper, listado))\n",
        "numeros= list(filter(str.isdigit, listado))\n",
        "print(f'Las mayusculas son: {mayusculas} \\nlos numeros son: {numeros}')"
      ],
      "metadata": {
        "colab": {
          "base_uri": "https://localhost:8080/"
        },
        "id": "qI_z0oQWLwnd",
        "outputId": "c521e461-54ef-48de-d31b-822dee7db076"
      },
      "execution_count": 8,
      "outputs": [
        {
          "output_type": "stream",
          "name": "stdout",
          "text": [
            "Las mayusculas son: ['HOLA', 'V'] \n",
            "los numeros son: ['3', '200']\n"
          ]
        }
      ]
    },
    {
      "cell_type": "code",
      "source": [],
      "metadata": {
        "id": "hYC-6huQLylc"
      },
      "execution_count": null,
      "outputs": []
    }
  ]
}