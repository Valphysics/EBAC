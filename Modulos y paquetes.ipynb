{
 "cells": [
  {
   "cell_type": "code",
   "execution_count": null,
   "id": "8ddb0bd8",
   "metadata": {},
   "outputs": [
    {
     "name": "stdout",
     "output_type": "stream",
     "text": [
      "[['Rank', 'Country Name', 'Male Height in Cm', 'Female Height in Cm', 'Male Height in Ft', 'Female Height in Ft'], ['1', 'Netherlands', '183.78', '170.36', '6.03', '5.59'], ['2', 'Montenegro', '183.30', '169.96', '6.01', '5.58'], ['3', 'Estonia', '182.79', '168.66', '6.00', '5.53'], ['4', 'Bosnia and Herzegovina', '182.47', '167.47', '5.99', '5.49'], ['5', 'Iceland', '182.10', '168.91', '5.97', '5.54'], ['6', 'Denmark', '181.89', '169.47', '5.97', '5.56'], ['7', 'Czech Republic', '181.19', '167.96', '5.94', '5.51'], ['8', 'Latvia', '181.17', '168.81', '5.94', '5.54'], ['9', 'Slovakia', '181.02', '167.12', '5.94', '5.48'], ['10', 'Slovenia', '180.98', '167.20', '5.94', '5.49'], ['11', 'Ukraine', '180.98', '166.62', '5.94', '5.47'], ['12', 'Croatia', '180.76', '166.80', '5.93', '5.47'], ['13', 'Serbia', '180.74', '168.29', '5.93', '5.52'], ['14', 'Lithuania', '180.72', '167.63', '5.93', '5.50'], ['15', 'Poland', '180.69', '165.78', '5.93', '5.44'], ['16', 'Finland', '180.57', '166.48', '5.92', '5.46'], ['17', 'Norway', '180.48', '166.45', '5.92', '5.46'], ['18', 'Sweden', '180.46', '166.67', '5.92', '5.47'], ['19', 'Germany', '180.28', '166.18', '5.91', '5.45'], ['20', 'Dominica', '180.15', '166.89', '5.91', '5.48'], ['21', 'Bermuda', '179.72', '166.11', '5.90', '5.45'], ['22', 'Puerto Rico', '179.48', '163.06', '5.89', '5.35'], ['23', 'Greece', '179.26', '165.81', '5.88', '5.44'], ['24', 'Belgium', '179.09', '163.40', '5.88', '5.36'], ['25', 'Ireland', '179.04', '164.50', '5.87', '5.40'], ['26', 'Lebanon', '178.96', '163.67', '5.87', '5.37'], ['27', 'Andorra', '178.84', '165.53', '5.87', '5.43'], ['28', 'Antigua and Barbuda', '178.84', '165.72', '5.87', '5.44'], ['29', 'Australia', '178.77', '164.67', '5.87', '5.40'], ['30', 'Canada', '178.75', '164.73', '5.86', '5.40'], ['31', 'Switzerland', '178.73', '164.33', '5.86', '5.39'], ['32', 'Grenada', '178.70', '165.99', '5.86', '5.45'], ['33', 'Belarus', '178.69', '166.93', '5.86', '5.48'], ['34', 'France', '178.60', '164.49', '5.86', '5.40'], ['35', 'Austria', '178.52', '166.93', '5.86', '5.48'], ['36', 'Luxembourg', '178.46', '165.07', '5.86', '5.42'], ['37', 'Cook Islands', '178.32', '167.31', '5.85', '5.49'], ['38', 'French Polynesia', '178.32', '166.52', '5.85', '5.46'], ['39', 'United Kingdom', '178.21', '163.94', '5.85', '5.38'], ['40', 'Romania', '177.82', '164.73', '5.83', '5.40'], ['41', 'New Zealand', '177.72', '164.66', '5.83', '5.40'], ['42', 'Saint Vincent and the Grenadines', '177.49', '165.30', '5.82', '5.42'], ['43', 'Niue', '177.19', '167.03', '5.81', '5.48'], ['44', 'American Samoa', '177.09', '167.55', '5.81', '5.50'], ['45', 'Barbados', '177.03', '165.66', '5.81', '5.44'], ['46', 'Jamaica', '176.97', '164.32', '5.81', '5.39'], ['47', 'United States', '176.94', '163.31', '5.81', '5.36'], ['48', 'Tunisia', '176.85', '161.69', '5.80', '5.30']]\n"
     ]
    }
   ],
   "source": [
    "import csv \n",
    "#import os\n",
    "\n",
    "file = open(r'./Height of Male and Female by Country 2022.csv', encoding='utf-8') #extraer el archivo\n",
    "csvreader=csv.reader(file)\n",
    "rows=[]\n",
    "for row in csvreader:\n",
    "    rows.append(row)\n",
    "\n",
    "print(rows[:49])"
   ]
  },
  {
   "cell_type": "code",
   "execution_count": 36,
   "id": "473ab6d5",
   "metadata": {},
   "outputs": [
    {
     "name": "stdout",
     "output_type": "stream",
     "text": [
      "La altura promedio de los hombres en los datos es 173.08904522613065 cm, y de mujeres es 160.9429145728643 cm\n",
      "La altura minima de los hombres en los datos es 160.13 cm, y de mujeres es 150.91 cm\n",
      "La altura maxima de los hombres en los datos es 183.78 cm, y de mujeres es 170.36 cm\n"
     ]
    }
   ],
   "source": [
    "import numpy as np\n",
    "\n",
    "#filtro para altura de hombres en cm\n",
    "hombres= np.array(rows)\n",
    "alt_h= hombres[1:,2] #segunda columna\n",
    "altura_h=[float(numeric_string) for numeric_string in alt_h]\n",
    "\n",
    "#filtro para altura de mujeres en cm\n",
    "mujeres=np.array(rows)\n",
    "alt_m=mujeres[1:,3] #tercer columna\n",
    "altura_m=[float(numeric_string) for numeric_string in alt_m]\n",
    "\n",
    "mean_h=np.mean(altura_h) #media\n",
    "mean_m=np.mean(altura_m)\n",
    "print('La altura promedio de los hombres en los datos es', mean_h, 'cm, y de mujeres es', mean_m, 'cm')\n",
    "\n",
    "min_h=min(altura_h) #minimo\n",
    "min_m=min(altura_m)\n",
    "print('La altura minima de los hombres en los datos es', min_h, 'cm, y de mujeres es', min_m,'cm')\n",
    "\n",
    "max_h=max(altura_h) #maximo\n",
    "max_m=max(altura_m)\n",
    "print('La altura maxima de los hombres en los datos es', max_h, 'cm, y de mujeres es', max_m, 'cm')\n"
   ]
  },
  {
   "cell_type": "code",
   "execution_count": 27,
   "id": "2f7e5725",
   "metadata": {},
   "outputs": [
    {
     "data": {
      "image/png": "[encoded data removed]",
      "text/plain": [
       "<Figure size 640x480 with 1 Axes>"
      ]
     },
     "metadata": {},
     "output_type": "display_data"
    }
   ],
   "source": [
    "import matplotlib.pyplot as plt\n",
    "plt.hist(altura_m, bins=30,label='altura mujeres')\n",
    "plt.hist(altura_h, bins=30,label='Altura hombres')\n",
    "plt.legend()\n",
    "plt.title('Alturas de hombres y mujeres')\n",
    "plt.show()"
   ]
  },
  {
   "cell_type": "code",
   "execution_count": 40,
   "id": "a9d0b3fe",
   "metadata": {},
   "outputs": [
    {
     "data": {
      "text/plain": [
       "array(['Netherlands', 'Montenegro', 'Estonia', 'Bosnia and Herzegovina',\n",
       "       'Iceland', 'Denmark', 'Czech Republic', 'Latvia', 'Slovakia',\n",
       "       'Slovenia', 'Ukraine', 'Croatia', 'Serbia', 'Lithuania', 'Poland',\n",
       "       'Finland', 'Norway', 'Sweden', 'Germany', 'Dominica', 'Bermuda',\n",
       "       'Puerto Rico', 'Greece', 'Belgium', 'Ireland', 'Lebanon',\n",
       "       'Andorra', 'Antigua and Barbuda', 'Australia', 'Canada',\n",
       "       'Switzerland', 'Grenada', 'Belarus', 'France', 'Austria',\n",
       "       'Luxembourg', 'Cook Islands', 'French Polynesia', 'United Kingdom',\n",
       "       'Romania', 'New Zealand', 'Saint Vincent and the Grenadines',\n",
       "       'Niue', 'American Samoa', 'Barbados', 'Jamaica', 'United States',\n",
       "       'Tunisia', 'Russia', 'Hungary', 'Saint Lucia', 'North Macedonia',\n",
       "       'Libya', 'Turkey', 'Morocco', 'Senegal', 'Spain', 'Tokelau',\n",
       "       'Trinidad and Tobago', 'Israel', 'Georgia', 'Seychelles', 'Brazil',\n",
       "       'China', 'Iran', 'Moldova', 'South Korea', 'Kazakhstan', 'Tonga',\n",
       "       'Palestine', 'Algeria', 'Mali', 'Kuwait', 'Jordan', 'Hong Kong',\n",
       "       'Argentina', 'North Korea', 'Dominican Republic', 'Egypt',\n",
       "       'Suriname', 'Italy', 'Samoa', 'Bahamas', 'Malta', 'Turkmenistan',\n",
       "       'Portugal', 'Uruguay', 'Bulgaria', 'United Arab Emirates',\n",
       "       'Albania', 'Costa Rica', 'Azerbaijan', 'Fiji', 'Greenland',\n",
       "       'Paraguay', 'Iraq', 'Saint Kitts and Nevis', 'Armenia', 'Cuba',\n",
       "       'Venezuela', 'Taiwan', 'Singapore', 'Qatar', 'Botswana',\n",
       "       'Mauritius', 'Chile', 'Bahrain', 'Cyprus', 'Haiti', 'Guyana',\n",
       "       'Cameroon', 'Sudan', 'Japan', 'Burkina Faso', 'Colombia', 'Chad',\n",
       "       'Oman', 'Kyrgyzstan', 'Syria', 'Thailand', 'Nigeria', 'Tuvalu',\n",
       "       'Republic of the Congo', 'Somalia', 'Uzbekistan', 'Djibouti',\n",
       "       'Guinea', 'Zimbabwe', 'Mongolia', 'El Salvador', 'Saudi Arabia',\n",
       "       'Palau', 'Eritrea', 'Belize', 'Gabon', 'Kenya',\n",
       "       'Sao Tome and Principe', 'Ghana', 'Mexico', 'Niger', 'Panama',\n",
       "       'Togo', 'Kiribati', 'Nicaragua', 'Namibia', 'South Africa',\n",
       "       'Honduras', 'Micronesia', 'Nauru', 'Eswatini', 'Malaysia',\n",
       "       'Central African Republic', 'Vietnam', 'Ethiopia', 'Uganda',\n",
       "       'DR Congo', 'Afghanistan', 'Angola', 'Benin', 'Tajikistan',\n",
       "       'Gambia', 'Vanuatu', 'Ivory Coast', 'Equatorial Guinea',\n",
       "       'Guinea-Bissau', 'Bolivia', 'Sri Lanka', 'Lesotho', 'Maldives',\n",
       "       'Comoros', 'Zambia', 'Burundi', 'Pakistan', 'Ecuador', 'Bhutan',\n",
       "       'Tanzania', 'Peru', 'Myanmar', 'India', 'Sierra Leone', 'Brunei',\n",
       "       'Indonesia', 'Rwanda', 'Malawi', 'Mauritania', 'Liberia',\n",
       "       'Cambodia', 'Marshall Islands', 'Philippines', 'Madagascar',\n",
       "       'Bangladesh', 'Yemen', 'Nepal', 'Guatemala', 'Mozambique',\n",
       "       'Papua New Guinea', 'Solomon Islands', 'Laos', 'Timor-Leste'],\n",
       "      dtype='<U32')"
      ]
     },
     "execution_count": 40,
     "metadata": {},
     "output_type": "execute_result"
    }
   ],
   "source": [
    "import pandas as pd\n",
    "\n",
    "p=np.array(rows)\n",
    "paises=p[1:,1]\n",
    "paises\n"
   ]
  },
  {
   "cell_type": "code",
   "execution_count": null,
   "id": "9c19d15a",
   "metadata": {},
   "outputs": [],
   "source": []
  }
 ],
 "metadata": {
  "kernelspec": {
   "display_name": "Python 3",
   "language": "python",
   "name": "python3"
  },
  "language_info": {
   "codemirror_mode": {
    "name": "ipython",
    "version": 3
   },
   "file_extension": ".py",
   "mimetype": "text/x-python",
   "name": "python",
   "nbconvert_exporter": "python",
   "pygments_lexer": "ipython3",
   "version": "3.13.3"
  }
 },
 "nbformat": 4,
 "nbformat_minor": 5
}
