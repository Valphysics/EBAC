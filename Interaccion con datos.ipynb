{
 "cells": [
  {
   "cell_type": "code",
   "execution_count": 26,
   "id": "1c77c635",
   "metadata": {},
   "outputs": [],
   "source": [
    "import csv\n",
    "fifa=open(r'./fifa_eda.csv', encoding='utf-8')\n",
    "csvreader=csv.reader(fifa)\n",
    "\n",
    "rows=[]\n",
    "for row in csvreader:\n",
    "    rows.append(row)"
   ]
  },
  {
   "cell_type": "code",
   "execution_count": 27,
   "id": "b03ada3b",
   "metadata": {},
   "outputs": [
    {
     "name": "stdout",
     "output_type": "stream",
     "text": [
      "[['ID', 'Name', 'Age', 'Nationality', 'Overall', 'Potential', 'Club', 'Value', 'Wage', 'Preferred Foot', 'International Reputation', 'Skill Moves', 'Position', 'Joined', 'Contract Valid Until', 'Height', 'Weight', 'Release Clause'], ['158023', 'L. Messi', '31', 'Argentina', '94', '94', 'FC Barcelona', '110500.0', '565.0', 'Left', '5.0', '4.0', 'RF', '2004', '2021-01-01', '5.583333333333333', '159.0', '226500.0'], ['20801', 'Cristiano Ronaldo', '33', 'Portugal', '94', '94', 'Juventus', '77000.0', '405.0', 'Right', '5.0', '5.0', 'ST', '2018', '2022-01-01', '6.166666666666667', '183.0', '127100.0'], ['190871', 'Neymar Jr', '26', 'Brazil', '92', '93', 'Paris Saint-Germain', '118500.0', '290.0', 'Right', '5.0', '5.0', 'LW', '2017', '2022-01-01', '5.75', '150.0', '228100.0'], ['193080', 'De Gea', '27', 'Spain', '91', '93', 'Manchester United', '72000.0', '260.0', 'Right', '4.0', '1.0', 'GK', '2011', '2020-01-01', '6.333333333333333', '168.0', '138600.0'], ['192985', 'K. De Bruyne', '27', 'Belgium', '91', '92', 'Manchester City', '102000.0', '355.0', 'Right', '4.0', '4.0', 'RCM', '2015', '2023-01-01', '5.916666666666667', '154.0', '196400.0'], ['183277', 'E. Hazard', '27', 'Belgium', '91', '91', 'Chelsea', '93000.0', '340.0', 'Right', '4.0', '4.0', 'LF', '2012', '2020-01-01', '5.666666666666667', '163.0', '172100.0'], ['177003', 'L. Modrić', '32', 'Croatia', '91', '91', 'Real Madrid', '67000.0', '420.0', 'Right', '4.0', '4.0', 'RCM', '2012', '2020-01-01', '5.666666666666667', '146.0', '137400.0'], ['176580', 'L. Suárez', '31', 'Uruguay', '91', '91', 'FC Barcelona', '80000.0', '455.0', 'Right', '5.0', '3.0', 'RS', '2014', '2021-01-01', '6.0', '190.0', '164000.0'], ['155862', 'Sergio Ramos', '32', 'Spain', '91', '91', 'Real Madrid', '51000.0', '380.0', 'Right', '4.0', '3.0', 'RCB', '2005', '2020-01-01', '6.0', '181.0', '104600.0']]\n"
     ]
    }
   ],
   "source": [
    "primeras_filas=rows[:10]\n",
    "print(primeras_filas)"
   ]
  },
  {
   "cell_type": "code",
   "execution_count": null,
   "id": "a62ea798",
   "metadata": {},
   "outputs": [
    {
     "name": "stdout",
     "output_type": "stream",
     "text": [
      "[['246167', 'D. Holland', '18', 'Republic of Ireland', '47', '61', 'Cork City', '60.0', '1.0', 'Right', '1.0', '2.0', 'CM', '2018', '2018-01-01', '5.833333333333333', '141.0', '88.0'], ['242844', 'J. Livesey', '18', 'England', '47', '70', 'Burton Albion', '60.0', '1.0', 'Right', '1.0', '1.0', 'GK', '2018', '2021-01-01', '5.916666666666667', '154.0', '165.0'], ['244677', 'M. Baldisimo', '18', 'Canada', '47', '69', 'Vancouver Whitecaps FC', '70.0', '1.0', 'Right', '1.0', '2.0', 'CM', '2018', '2021-01-01', '5.5', '150.0', '175.0'], ['231381', 'J. Young', '18', 'Scotland', '47', '62', 'Swindon Town', '60.0', '1.0', 'Left', '1.0', '2.0', 'ST', '2015', '2019-01-01', '5.75', '157.0', '143.0'], ['243413', 'D. Walsh', '18', 'Republic of Ireland', '47', '68', 'Waterford FC', '60.0', '1.0', 'Left', '1.0', '2.0', 'RB', '2018', '2018-01-01', '6.083333333333333', '168.0', '153.0'], ['238813', 'J. Lundstram', '19', 'England', '47', '65', 'Crewe Alexandra', '60.0', '1.0', 'Right', '1.0', '2.0', 'CM', '2017', '2019-01-01', '5.75', '134.0', '143.0'], ['243165', 'N. Christoffersson', '19', 'Sweden', '47', '63', 'Trelleborgs FF', '60.0', '1.0', 'Right', '1.0', '2.0', 'ST', '2018', '2020-01-01', '6.25', '170.0', '113.0'], ['241638', 'B. Worman', '16', 'England', '47', '67', 'Cambridge United', '60.0', '1.0', 'Right', '1.0', '2.0', 'ST', '2017', '2021-01-01', '5.666666666666667', '148.0', '165.0'], ['246268', 'D. Walker-Rice', '17', 'England', '47', '66', 'Tranmere Rovers', '60.0', '1.0', 'Right', '1.0', '2.0', 'RW', '2018', '2019-01-01', '5.833333333333333', '154.0', '143.0'], ['246269', 'G. Nugent', '16', 'England', '46', '66', 'Tranmere Rovers', '60.0', '1.0', 'Right', '1.0', '2.0', 'CM', '2018', '2019-01-01', '5.833333333333333', '176.0', '165.0']]\n"
     ]
    }
   ],
   "source": [
    "ultimas_filas=rows[-10:]\n",
    "print(ultimas_filas)"
   ]
  },
  {
   "cell_type": "code",
   "execution_count": null,
   "id": "434e21cc",
   "metadata": {},
   "outputs": [],
   "source": [
    "import csv\n",
    "\n",
    "with open('jugadores.csv', 'w', encoding='utf-8', newline='') as f: \n",
    "    writer=csv.writer(f) #escribir en el archivo nuevo\n",
    "    for row in rows: #para cada renglon\n",
    "        columnas=row[1:4] #primeras 3 columnas \n",
    "        writer.writerow(columnas) #escribelas en el archivo\n"
   ]
  },
  {
   "cell_type": "markdown",
   "id": "0eb8094f",
   "metadata": {},
   "source": [
    "Excel"
   ]
  },
  {
   "cell_type": "code",
   "execution_count": 2,
   "id": "24910259",
   "metadata": {},
   "outputs": [],
   "source": [
    "import openpyxl\n",
    "from pathlib import Path\n",
    "\n",
    "xlsx_arch= Path('topBestSellingNovels.xlsx')\n",
    "wb=openpyxl.load_workbook(xlsx_arch) \n",
    "sheet=wb.active\n",
    "\n",
    "rows_e=[]\n",
    "for row in sheet.rows:\n",
    "    datos=[cell.value for cell in row]\n",
    "    rows_e.append(datos)"
   ]
  },
  {
   "cell_type": "code",
   "execution_count": 3,
   "id": "e174bb3c",
   "metadata": {},
   "outputs": [
    {
     "name": "stdout",
     "output_type": "stream",
     "text": [
      "((<Cell 'best_selling_books_2009-2021_fu'.A1>, <Cell 'best_selling_books_2009-2021_fu'.B1>, <Cell 'best_selling_books_2009-2021_fu'.C1>, <Cell 'best_selling_books_2009-2021_fu'.D1>, <Cell 'best_selling_books_2009-2021_fu'.E1>, <Cell 'best_selling_books_2009-2021_fu'.F1>, <Cell 'best_selling_books_2009-2021_fu'.G1>, <Cell 'best_selling_books_2009-2021_fu'.H1>, <Cell 'best_selling_books_2009-2021_fu'.I1>, <Cell 'best_selling_books_2009-2021_fu'.J1>), (<Cell 'best_selling_books_2009-2021_fu'.A2>, <Cell 'best_selling_books_2009-2021_fu'.B2>, <Cell 'best_selling_books_2009-2021_fu'.C2>, <Cell 'best_selling_books_2009-2021_fu'.D2>, <Cell 'best_selling_books_2009-2021_fu'.E2>, <Cell 'best_selling_books_2009-2021_fu'.F2>, <Cell 'best_selling_books_2009-2021_fu'.G2>, <Cell 'best_selling_books_2009-2021_fu'.H2>, <Cell 'best_selling_books_2009-2021_fu'.I2>, <Cell 'best_selling_books_2009-2021_fu'.J2>), (<Cell 'best_selling_books_2009-2021_fu'.A3>, <Cell 'best_selling_books_2009-2021_fu'.B3>, <Cell 'best_selling_books_2009-2021_fu'.C3>, <Cell 'best_selling_books_2009-2021_fu'.D3>, <Cell 'best_selling_books_2009-2021_fu'.E3>, <Cell 'best_selling_books_2009-2021_fu'.F3>, <Cell 'best_selling_books_2009-2021_fu'.G3>, <Cell 'best_selling_books_2009-2021_fu'.H3>, <Cell 'best_selling_books_2009-2021_fu'.I3>, <Cell 'best_selling_books_2009-2021_fu'.J3>), (<Cell 'best_selling_books_2009-2021_fu'.A4>, <Cell 'best_selling_books_2009-2021_fu'.B4>, <Cell 'best_selling_books_2009-2021_fu'.C4>, <Cell 'best_selling_books_2009-2021_fu'.D4>, <Cell 'best_selling_books_2009-2021_fu'.E4>, <Cell 'best_selling_books_2009-2021_fu'.F4>, <Cell 'best_selling_books_2009-2021_fu'.G4>, <Cell 'best_selling_books_2009-2021_fu'.H4>, <Cell 'best_selling_books_2009-2021_fu'.I4>, <Cell 'best_selling_books_2009-2021_fu'.J4>), (<Cell 'best_selling_books_2009-2021_fu'.A5>, <Cell 'best_selling_books_2009-2021_fu'.B5>, <Cell 'best_selling_books_2009-2021_fu'.C5>, <Cell 'best_selling_books_2009-2021_fu'.D5>, <Cell 'best_selling_books_2009-2021_fu'.E5>, <Cell 'best_selling_books_2009-2021_fu'.F5>, <Cell 'best_selling_books_2009-2021_fu'.G5>, <Cell 'best_selling_books_2009-2021_fu'.H5>, <Cell 'best_selling_books_2009-2021_fu'.I5>, <Cell 'best_selling_books_2009-2021_fu'.J5>), (<Cell 'best_selling_books_2009-2021_fu'.A6>, <Cell 'best_selling_books_2009-2021_fu'.B6>, <Cell 'best_selling_books_2009-2021_fu'.C6>, <Cell 'best_selling_books_2009-2021_fu'.D6>, <Cell 'best_selling_books_2009-2021_fu'.E6>, <Cell 'best_selling_books_2009-2021_fu'.F6>, <Cell 'best_selling_books_2009-2021_fu'.G6>, <Cell 'best_selling_books_2009-2021_fu'.H6>, <Cell 'best_selling_books_2009-2021_fu'.I6>, <Cell 'best_selling_books_2009-2021_fu'.J6>), (<Cell 'best_selling_books_2009-2021_fu'.A7>, <Cell 'best_selling_books_2009-2021_fu'.B7>, <Cell 'best_selling_books_2009-2021_fu'.C7>, <Cell 'best_selling_books_2009-2021_fu'.D7>, <Cell 'best_selling_books_2009-2021_fu'.E7>, <Cell 'best_selling_books_2009-2021_fu'.F7>, <Cell 'best_selling_books_2009-2021_fu'.G7>, <Cell 'best_selling_books_2009-2021_fu'.H7>, <Cell 'best_selling_books_2009-2021_fu'.I7>, <Cell 'best_selling_books_2009-2021_fu'.J7>), (<Cell 'best_selling_books_2009-2021_fu'.A8>, <Cell 'best_selling_books_2009-2021_fu'.B8>, <Cell 'best_selling_books_2009-2021_fu'.C8>, <Cell 'best_selling_books_2009-2021_fu'.D8>, <Cell 'best_selling_books_2009-2021_fu'.E8>, <Cell 'best_selling_books_2009-2021_fu'.F8>, <Cell 'best_selling_books_2009-2021_fu'.G8>, <Cell 'best_selling_books_2009-2021_fu'.H8>, <Cell 'best_selling_books_2009-2021_fu'.I8>, <Cell 'best_selling_books_2009-2021_fu'.J8>), (<Cell 'best_selling_books_2009-2021_fu'.A9>, <Cell 'best_selling_books_2009-2021_fu'.B9>, <Cell 'best_selling_books_2009-2021_fu'.C9>, <Cell 'best_selling_books_2009-2021_fu'.D9>, <Cell 'best_selling_books_2009-2021_fu'.E9>, <Cell 'best_selling_books_2009-2021_fu'.F9>, <Cell 'best_selling_books_2009-2021_fu'.G9>, <Cell 'best_selling_books_2009-2021_fu'.H9>, <Cell 'best_selling_books_2009-2021_fu'.I9>, <Cell 'best_selling_books_2009-2021_fu'.J9>), (<Cell 'best_selling_books_2009-2021_fu'.A10>, <Cell 'best_selling_books_2009-2021_fu'.B10>, <Cell 'best_selling_books_2009-2021_fu'.C10>, <Cell 'best_selling_books_2009-2021_fu'.D10>, <Cell 'best_selling_books_2009-2021_fu'.E10>, <Cell 'best_selling_books_2009-2021_fu'.F10>, <Cell 'best_selling_books_2009-2021_fu'.G10>, <Cell 'best_selling_books_2009-2021_fu'.H10>, <Cell 'best_selling_books_2009-2021_fu'.I10>, <Cell 'best_selling_books_2009-2021_fu'.J10>))\n"
     ]
    }
   ],
   "source": [
    "primeros_10=sheet['A1':'J10']\n",
    "print(primeros_10)"
   ]
  },
  {
   "cell_type": "code",
   "execution_count": 4,
   "id": "e6dc9099",
   "metadata": {},
   "outputs": [
    {
     "name": "stdout",
     "output_type": "stream",
     "text": [
      "((<Cell 'best_selling_books_2009-2021_fu'.A1283>, <Cell 'best_selling_books_2009-2021_fu'.B1283>, <Cell 'best_selling_books_2009-2021_fu'.C1283>, <Cell 'best_selling_books_2009-2021_fu'.D1283>, <Cell 'best_selling_books_2009-2021_fu'.E1283>, <Cell 'best_selling_books_2009-2021_fu'.F1283>, <Cell 'best_selling_books_2009-2021_fu'.G1283>, <Cell 'best_selling_books_2009-2021_fu'.H1283>, <Cell 'best_selling_books_2009-2021_fu'.I1283>, <Cell 'best_selling_books_2009-2021_fu'.J1283>), (<Cell 'best_selling_books_2009-2021_fu'.A1284>, <Cell 'best_selling_books_2009-2021_fu'.B1284>, <Cell 'best_selling_books_2009-2021_fu'.C1284>, <Cell 'best_selling_books_2009-2021_fu'.D1284>, <Cell 'best_selling_books_2009-2021_fu'.E1284>, <Cell 'best_selling_books_2009-2021_fu'.F1284>, <Cell 'best_selling_books_2009-2021_fu'.G1284>, <Cell 'best_selling_books_2009-2021_fu'.H1284>, <Cell 'best_selling_books_2009-2021_fu'.I1284>, <Cell 'best_selling_books_2009-2021_fu'.J1284>), (<Cell 'best_selling_books_2009-2021_fu'.A1285>, <Cell 'best_selling_books_2009-2021_fu'.B1285>, <Cell 'best_selling_books_2009-2021_fu'.C1285>, <Cell 'best_selling_books_2009-2021_fu'.D1285>, <Cell 'best_selling_books_2009-2021_fu'.E1285>, <Cell 'best_selling_books_2009-2021_fu'.F1285>, <Cell 'best_selling_books_2009-2021_fu'.G1285>, <Cell 'best_selling_books_2009-2021_fu'.H1285>, <Cell 'best_selling_books_2009-2021_fu'.I1285>, <Cell 'best_selling_books_2009-2021_fu'.J1285>), (<Cell 'best_selling_books_2009-2021_fu'.A1286>, <Cell 'best_selling_books_2009-2021_fu'.B1286>, <Cell 'best_selling_books_2009-2021_fu'.C1286>, <Cell 'best_selling_books_2009-2021_fu'.D1286>, <Cell 'best_selling_books_2009-2021_fu'.E1286>, <Cell 'best_selling_books_2009-2021_fu'.F1286>, <Cell 'best_selling_books_2009-2021_fu'.G1286>, <Cell 'best_selling_books_2009-2021_fu'.H1286>, <Cell 'best_selling_books_2009-2021_fu'.I1286>, <Cell 'best_selling_books_2009-2021_fu'.J1286>), (<Cell 'best_selling_books_2009-2021_fu'.A1287>, <Cell 'best_selling_books_2009-2021_fu'.B1287>, <Cell 'best_selling_books_2009-2021_fu'.C1287>, <Cell 'best_selling_books_2009-2021_fu'.D1287>, <Cell 'best_selling_books_2009-2021_fu'.E1287>, <Cell 'best_selling_books_2009-2021_fu'.F1287>, <Cell 'best_selling_books_2009-2021_fu'.G1287>, <Cell 'best_selling_books_2009-2021_fu'.H1287>, <Cell 'best_selling_books_2009-2021_fu'.I1287>, <Cell 'best_selling_books_2009-2021_fu'.J1287>), (<Cell 'best_selling_books_2009-2021_fu'.A1288>, <Cell 'best_selling_books_2009-2021_fu'.B1288>, <Cell 'best_selling_books_2009-2021_fu'.C1288>, <Cell 'best_selling_books_2009-2021_fu'.D1288>, <Cell 'best_selling_books_2009-2021_fu'.E1288>, <Cell 'best_selling_books_2009-2021_fu'.F1288>, <Cell 'best_selling_books_2009-2021_fu'.G1288>, <Cell 'best_selling_books_2009-2021_fu'.H1288>, <Cell 'best_selling_books_2009-2021_fu'.I1288>, <Cell 'best_selling_books_2009-2021_fu'.J1288>), (<Cell 'best_selling_books_2009-2021_fu'.A1289>, <Cell 'best_selling_books_2009-2021_fu'.B1289>, <Cell 'best_selling_books_2009-2021_fu'.C1289>, <Cell 'best_selling_books_2009-2021_fu'.D1289>, <Cell 'best_selling_books_2009-2021_fu'.E1289>, <Cell 'best_selling_books_2009-2021_fu'.F1289>, <Cell 'best_selling_books_2009-2021_fu'.G1289>, <Cell 'best_selling_books_2009-2021_fu'.H1289>, <Cell 'best_selling_books_2009-2021_fu'.I1289>, <Cell 'best_selling_books_2009-2021_fu'.J1289>), (<Cell 'best_selling_books_2009-2021_fu'.A1290>, <Cell 'best_selling_books_2009-2021_fu'.B1290>, <Cell 'best_selling_books_2009-2021_fu'.C1290>, <Cell 'best_selling_books_2009-2021_fu'.D1290>, <Cell 'best_selling_books_2009-2021_fu'.E1290>, <Cell 'best_selling_books_2009-2021_fu'.F1290>, <Cell 'best_selling_books_2009-2021_fu'.G1290>, <Cell 'best_selling_books_2009-2021_fu'.H1290>, <Cell 'best_selling_books_2009-2021_fu'.I1290>, <Cell 'best_selling_books_2009-2021_fu'.J1290>), (<Cell 'best_selling_books_2009-2021_fu'.A1291>, <Cell 'best_selling_books_2009-2021_fu'.B1291>, <Cell 'best_selling_books_2009-2021_fu'.C1291>, <Cell 'best_selling_books_2009-2021_fu'.D1291>, <Cell 'best_selling_books_2009-2021_fu'.E1291>, <Cell 'best_selling_books_2009-2021_fu'.F1291>, <Cell 'best_selling_books_2009-2021_fu'.G1291>, <Cell 'best_selling_books_2009-2021_fu'.H1291>, <Cell 'best_selling_books_2009-2021_fu'.I1291>, <Cell 'best_selling_books_2009-2021_fu'.J1291>), (<Cell 'best_selling_books_2009-2021_fu'.A1292>, <Cell 'best_selling_books_2009-2021_fu'.B1292>, <Cell 'best_selling_books_2009-2021_fu'.C1292>, <Cell 'best_selling_books_2009-2021_fu'.D1292>, <Cell 'best_selling_books_2009-2021_fu'.E1292>, <Cell 'best_selling_books_2009-2021_fu'.F1292>, <Cell 'best_selling_books_2009-2021_fu'.G1292>, <Cell 'best_selling_books_2009-2021_fu'.H1292>, <Cell 'best_selling_books_2009-2021_fu'.I1292>, <Cell 'best_selling_books_2009-2021_fu'.J1292>))\n"
     ]
    }
   ],
   "source": [
    "total=sheet.max_row\n",
    "ultimos_10=sheet[f'A{total-9}:J{total}']\n",
    "print(ultimos_10)"
   ]
  },
  {
   "cell_type": "code",
   "execution_count": 5,
   "id": "c4889a19",
   "metadata": {},
   "outputs": [],
   "source": [
    "import xlsxwriter\n",
    "\n",
    "data = []\n",
    "for row in sheet.iter_rows(min_col=2, max_col=5, values_only=True):\n",
    "    data.append(row)\n",
    "    \n",
    "workbook = xlsxwriter.Workbook('/Users/pxndx/OneDrive/Documentos/python/libros.xlsx')\n",
    "worksheet = workbook.add_worksheet()\n",
    "\n",
    "for row_idx, row_data in enumerate(data):\n",
    "    worksheet.write(row_idx, 0, row_data[0])  \n",
    "    worksheet.write(row_idx, 1, row_data[1])  \n",
    "    worksheet.write(row_idx, 2, row_data[2])  \n",
    "    worksheet.write(row_idx, 3, row_data[3])\n",
    "\n",
    "workbook.close()"
   ]
  },
  {
   "cell_type": "code",
   "execution_count": null,
   "id": "2c31820b",
   "metadata": {},
   "outputs": [],
   "source": []
  }
 ],
 "metadata": {
  "kernelspec": {
   "display_name": "Python 3",
   "language": "python",
   "name": "python3"
  },
  "language_info": {
   "codemirror_mode": {
    "name": "ipython",
    "version": 3
   },
   "file_extension": ".py",
   "mimetype": "text/x-python",
   "name": "python",
   "nbconvert_exporter": "python",
   "pygments_lexer": "ipython3",
   "version": "3.13.3"
  }
 },
 "nbformat": 4,
 "nbformat_minor": 5
}
