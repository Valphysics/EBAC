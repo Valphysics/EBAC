{
 "cells": [
  {
   "cell_type": "code",
   "execution_count": 1,
   "id": "a9a1a610",
   "metadata": {},
   "outputs": [
    {
     "name": "stdout",
     "output_type": "stream",
     "text": [
      "No se encontro el archivo\n"
     ]
    }
   ],
   "source": [
    "def error_archivo():\n",
    "    assert(open(r'text.txt'))\n",
    "    print('Aqui esta el archivo')\n",
    "try:\n",
    "    error_archivo()\n",
    "except:\n",
    "    print('No se encontro el archivo')"
   ]
  },
  {
   "cell_type": "code",
   "execution_count": 2,
   "id": "9ec3a147",
   "metadata": {},
   "outputs": [
    {
     "name": "stdout",
     "output_type": "stream",
     "text": [
      "No puedo abrir el archivo\n"
     ]
    }
   ],
   "source": [
    "try:\n",
    "    with open('text.txt') as file:\n",
    "        read_data=file.read()\n",
    "except:\n",
    "    print('No puedo abrir el archivo')"
   ]
  },
  {
   "cell_type": "code",
   "execution_count": 3,
   "id": "05374e63",
   "metadata": {},
   "outputs": [
    {
     "name": "stdout",
     "output_type": "stream",
     "text": [
      "No encontro el archivo\n",
      "Operacion realizada\n"
     ]
    }
   ],
   "source": [
    "try:\n",
    "    with open('text.txt') as file:\n",
    "        read_data=file.read()\n",
    "except FileNotFoundError:\n",
    "    print('No encontro el archivo')\n",
    "else:\n",
    "    print('Aqui esta el archivo')\n",
    "finally:\n",
    "    print('Operacion realizada')"
   ]
  },
  {
   "cell_type": "code",
   "execution_count": 4,
   "id": "c642204a",
   "metadata": {},
   "outputs": [
    {
     "ename": "ZeroDivisionError",
     "evalue": "division by zero",
     "output_type": "error",
     "traceback": [
      "\u001b[1;31m---------------------------------------------------------------------------\u001b[0m",
      "\u001b[1;31mZeroDivisionError\u001b[0m                         Traceback (most recent call last)",
      "Cell \u001b[1;32mIn[4], line 5\u001b[0m\n\u001b[0;32m      3\u001b[0m c\u001b[38;5;241m=\u001b[39m\u001b[38;5;241m40\u001b[39m\n\u001b[0;32m      4\u001b[0m d\u001b[38;5;241m=\u001b[39m\u001b[38;5;241m5\u001b[39m\n\u001b[1;32m----> 5\u001b[0m e\u001b[38;5;241m=\u001b[39ma\u001b[38;5;241m+\u001b[39mb\u001b[38;5;241m+\u001b[39mc\u001b[38;5;241m+\u001b[39m\u001b[43md\u001b[49m\u001b[38;5;241;43m/\u001b[39;49m\u001b[38;5;241;43m0\u001b[39;49m\n\u001b[0;32m      6\u001b[0m \u001b[38;5;28mprint\u001b[39m(\u001b[38;5;124m'\u001b[39m\u001b[38;5;124mla suma es =\u001b[39m\u001b[38;5;124m'\u001b[39m, d)\n",
      "\u001b[1;31mZeroDivisionError\u001b[0m: division by zero"
     ]
    }
   ],
   "source": [
    "a=10\n",
    "b=15\n",
    "c=40\n",
    "d=5\n",
    "e=a+b+c+d/0\n",
    "print('la suma es =', d)"
   ]
  },
  {
   "cell_type": "code",
   "execution_count": null,
   "id": "f38e2c9a",
   "metadata": {},
   "outputs": [],
   "source": [
    "\n"
   ]
  }
 ],
 "metadata": {
  "kernelspec": {
   "display_name": "Python 3",
   "language": "python",
   "name": "python3"
  },
  "language_info": {
   "codemirror_mode": {
    "name": "ipython",
    "version": 3
   },
   "file_extension": ".py",
   "mimetype": "text/x-python",
   "name": "python",
   "nbconvert_exporter": "python",
   "pygments_lexer": "ipython3",
   "version": "3.13.3"
  }
 },
 "nbformat": 4,
 "nbformat_minor": 5
}
