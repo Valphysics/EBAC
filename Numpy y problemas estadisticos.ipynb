{
 "cells": [
  {
   "cell_type": "code",
   "execution_count": 2,
   "id": "94a5afdd",
   "metadata": {},
   "outputs": [
    {
     "data": {
      "text/plain": [
       "array([74.69, 15.28, 46.33, 58.22, 86.31, 85.39, 68.84, 73.56, 36.26,\n",
       "       54.84])"
      ]
     },
     "execution_count": 2,
     "metadata": {},
     "output_type": "execute_result"
    }
   ],
   "source": [
    "import numpy as np\n",
    "import pandas as pd \n",
    "\n",
    "df=pd.read_csv('supermarket_sales.csv')\n",
    "\n",
    "unit_price=df[['Unit price']].to_numpy()\n",
    "quantity=df[['Quantity']].to_numpy()\n",
    "\n",
    "unit_price[:10,0]"
   ]
  },
  {
   "cell_type": "code",
   "execution_count": 11,
   "id": "2aa26324",
   "metadata": {},
   "outputs": [
    {
     "data": {
      "text/plain": [
       "array([ 7,  5,  7,  8,  7,  7,  6, 10,  2,  3,  4,  4,  5, 10, 10,  6,  7,\n",
       "        6,  3,  2])"
      ]
     },
     "execution_count": 11,
     "metadata": {},
     "output_type": "execute_result"
    }
   ],
   "source": [
    "quantity[:20,0]"
   ]
  },
  {
   "cell_type": "code",
   "execution_count": 17,
   "id": "6de48cba",
   "metadata": {},
   "outputs": [
    {
     "name": "stdout",
     "output_type": "stream",
     "text": [
      "La media de Unit price es:  55.67\n"
     ]
    }
   ],
   "source": [
    "#media de unit_price\n",
    "media_price=unit_price.mean()\n",
    "format_media='{:.2f}'.format(media_price)\n",
    "print('La media de Unit price es: ', format_media)"
   ]
  },
  {
   "cell_type": "code",
   "execution_count": 18,
   "id": "0dcfcd43",
   "metadata": {},
   "outputs": [
    {
     "name": "stdout",
     "output_type": "stream",
     "text": [
      "La media de Quantity es:  5.51\n"
     ]
    }
   ],
   "source": [
    "#media de quantity\n",
    "media_quantity=quantity.mean()\n",
    "format_quantity='{:.2f}'.format(media_quantity)\n",
    "print('La media de Quantity es: ', format_quantity)"
   ]
  },
  {
   "cell_type": "code",
   "execution_count": 27,
   "id": "ef7fb2fc",
   "metadata": {},
   "outputs": [
    {
     "name": "stdout",
     "output_type": "stream",
     "text": [
      "La mediana de unit price es = 55.23\n"
     ]
    }
   ],
   "source": [
    "#mediana de unit price\n",
    "mediana_price=np.median(unit_price)\n",
    "print(f'La mediana de unit price es = {mediana_price:.2f}')"
   ]
  },
  {
   "cell_type": "code",
   "execution_count": 28,
   "id": "dbe7a5a7",
   "metadata": {},
   "outputs": [
    {
     "name": "stdout",
     "output_type": "stream",
     "text": [
      "La mediana de quantity es = 5.00\n"
     ]
    }
   ],
   "source": [
    "#mediana\n",
    "mediana_quantity=np.median(quantity)\n",
    "print(f'La mediana de quantity es = {mediana_quantity:.2f}')"
   ]
  },
  {
   "cell_type": "code",
   "execution_count": 29,
   "id": "5ac50241",
   "metadata": {},
   "outputs": [
    {
     "name": "stdout",
     "output_type": "stream",
     "text": [
      "La modad de la unit price es = 83.77\n"
     ]
    }
   ],
   "source": [
    "#moda de unit price\n",
    "vals, counts= np.unique(unit_price, return_counts=True)\n",
    "index=np.argmax(counts)\n",
    "moda=vals[index] \n",
    "print(f'La modad de la unit price es = {moda:.2f}')"
   ]
  },
  {
   "cell_type": "code",
   "execution_count": 30,
   "id": "4eb52048",
   "metadata": {},
   "outputs": [
    {
     "name": "stdout",
     "output_type": "stream",
     "text": [
      "La modad de la quantity es = 10.00\n"
     ]
    }
   ],
   "source": [
    "#moda de quantity\n",
    "vals1, counts1= np.unique(quantity, return_counts=True)\n",
    "index=np.argmax(counts1)\n",
    "moda1=vals1[index] \n",
    "print(f'La modad de la quantity es = {moda1:.2f}')"
   ]
  },
  {
   "cell_type": "code",
   "execution_count": 38,
   "id": "edee1078",
   "metadata": {},
   "outputs": [
    {
     "data": {
      "text/plain": [
       "City\n",
       "Mandalay     319.872506\n",
       "Naypyitaw    337.099715\n",
       "Yangon       312.354031\n",
       "Name: Total, dtype: float64"
      ]
     },
     "execution_count": 38,
     "metadata": {},
     "output_type": "execute_result"
    }
   ],
   "source": [
    "#Ticket primedio por ciudad\n",
    "prom_ciudad=df.groupby('City')['Total'].mean()\n",
    "prom_ciudad"
   ]
  },
  {
   "cell_type": "code",
   "execution_count": 44,
   "id": "2ac6f19b",
   "metadata": {},
   "outputs": [
    {
     "data": {
      "text/plain": [
       "City       Product line          \n",
       "Mandalay   Electronic accessories    310.026245\n",
       "           Fashion accessories       264.730911\n",
       "           Food and beverages        304.297770\n",
       "           Health and beauty         376.993585\n",
       "           Home and lifestyle        350.983290\n",
       "           Sports and travel         322.390306\n",
       "Naypyitaw  Electronic accessories    344.890445\n",
       "           Fashion accessories       331.693385\n",
       "           Food and beverages        360.103864\n",
       "           Health and beauty         319.525500\n",
       "           Home and lifestyle        308.790067\n",
       "           Sports and travel         350.265067\n",
       "Yangon     Electronic accessories    305.285225\n",
       "           Fashion accessories       320.245265\n",
       "           Food and beverages        295.915526\n",
       "           Health and beauty         268.037298\n",
       "           Home and lifestyle        344.879931\n",
       "           Sports and travel         328.350839\n",
       "Name: Total, dtype: float64"
      ]
     },
     "execution_count": 44,
     "metadata": {},
     "output_type": "execute_result"
    }
   ],
   "source": [
    "#Ticket primedio por product line y ciudad\n",
    "prom_ciudad_product=df.groupby(['City', 'Product line'])['Total'].mean()\n",
    "prom_ciudad_product"
   ]
  },
  {
   "cell_type": "code",
   "execution_count": null,
   "id": "a1590a25",
   "metadata": {},
   "outputs": [
    {
     "data": {
      "text/plain": [
       "Gender\n",
       "Female    335.095659\n",
       "Male      310.789226\n",
       "Name: Total, dtype: float64"
      ]
     },
     "execution_count": 45,
     "metadata": {},
     "output_type": "execute_result"
    }
   ],
   "source": [
    "#Ticket primedio por genero\n",
    "prom_genero=df.groupby('Gender')['Total'].mean()\n",
    "prom_genero"
   ]
  },
  {
   "cell_type": "code",
   "execution_count": 51,
   "id": "59e44f27",
   "metadata": {},
   "outputs": [
    {
     "data": {
      "text/plain": [
       "Gender  Product line          \n",
       "Female  Electronic accessories    322.643125\n",
       "        Fashion accessories       317.056250\n",
       "        Food and beverages        368.565750\n",
       "        Health and beauty         290.015414\n",
       "        Home and lifestyle        380.213639\n",
       "        Sports and travel         324.712739\n",
       "Male    Electronic accessories    316.691965\n",
       "        Fashion accessories       291.079207\n",
       "        Food and beverages        273.499125\n",
       "        Health and beauty         348.099460\n",
       "        Home and lifestyle        294.136241\n",
       "        Sports and travel         340.360327\n",
       "Name: Total, dtype: float64"
      ]
     },
     "execution_count": 51,
     "metadata": {},
     "output_type": "execute_result"
    }
   ],
   "source": [
    "#Ticket primedio por genero y product line \n",
    "prom_genero_product=df.groupby(['Gender', 'Product line'])['Total'].mean()\n",
    "prom_genero_product"
   ]
  },
  {
   "cell_type": "code",
   "execution_count": null,
   "id": "c0d33564",
   "metadata": {},
   "outputs": [
    {
     "name": "stdout",
     "output_type": "stream",
     "text": [
      "          City      Total  ranking\n",
      "96    Mandalay   922.6350      5.0\n",
      "209   Mandalay   942.4485      4.0\n",
      "122   Mandalay   944.6220      3.0\n",
      "792   Mandalay  1022.3850      2.0\n",
      "996   Mandalay  1022.4900      1.0\n",
      "166  Naypyitaw  1003.5900      5.0\n",
      "422  Naypyitaw  1020.7050      4.0\n",
      "699  Naypyitaw  1023.7500      3.0\n",
      "557  Naypyitaw  1034.4600      2.0\n",
      "350  Naypyitaw  1042.6500      1.0\n",
      "529     Yangon   926.9505      5.0\n",
      "105     Yangon   931.0350      4.0\n",
      "959     Yangon   932.3370      3.0\n",
      "429     Yangon   951.8250      2.0\n",
      "167     Yangon  1039.2900      1.0\n"
     ]
    }
   ],
   "source": [
    "#Top 5 ventas por ciudad\n",
    "df['ranking']=df.groupby('City')['Total'].rank(ascending=False)\n",
    "top_5=df[df['ranking']<=5][['City', 'Total', 'ranking']]\n",
    "top_5=top_5.sort_values(by=['City','ranking'], ascending=[True, False])\n",
    "print(top_5)"
   ]
  },
  {
   "cell_type": "code",
   "execution_count": 87,
   "id": "ebb31c9d",
   "metadata": {},
   "outputs": [
    {
     "name": "stdout",
     "output_type": "stream",
     "text": [
      "       Payment       Total  ranking\n",
      "2      Ewallet  51790.9560      3.0\n",
      "0         Cash  54661.0155      2.0\n",
      "1  Credit card  57771.4725      1.0\n"
     ]
    }
   ],
   "source": [
    "#Top 5 ventas por member\n",
    "miembros=df[df['Customer type']=='Member']\n",
    "ventas_m=miembros.groupby('Payment')['Total'].sum().reset_index()\n",
    "ventas_m['ranking']=ventas_m['Total'].rank(ascending=False)\n",
    "top_5m=ventas_m[ventas_m['ranking']<=5]\n",
    "top_5m=top_5m.sort_values(by='ranking', ascending=False)\n",
    "print(top_5m)"
   ]
  },
  {
   "cell_type": "code",
   "execution_count": null,
   "id": "4c847841",
   "metadata": {},
   "outputs": [
    {
     "name": "stdout",
     "output_type": "stream",
     "text": [
      "         Payment      Total  ranking\n",
      "166         Cash  1003.5900      1.0\n",
      "357         Cash  1002.1200      2.0\n",
      "141         Cash   950.2500      3.0\n",
      "941         Cash   943.2990      4.0\n",
      "611         Cash   935.2665      5.0\n",
      "350  Credit card  1042.6500      1.0\n",
      "167  Credit card  1039.2900      2.0\n",
      "792  Credit card  1022.3850      3.0\n",
      "422  Credit card  1020.7050      4.0\n",
      "122  Credit card   944.6220      5.0\n",
      "557      Ewallet  1034.4600      1.0\n",
      "699      Ewallet  1023.7500      2.0\n",
      "996      Ewallet  1022.4900      3.0\n",
      "429      Ewallet   951.8250      4.0\n",
      "435      Ewallet   937.8180      5.0\n"
     ]
    }
   ],
   "source": [
    "#Top 5 ventas por payment\n",
    "df['ranking']=df.groupby('Payment')['Total'].rank(ascending=False)\n",
    "top_5p=df[df['ranking']<=5][['Payment', 'Total', 'ranking']]\n",
    "top_5p=top_5p.sort_values(by=['Payment','Total','ranking'], ascending=[True, False, False])\n",
    "print(top_5p)"
   ]
  },
  {
   "cell_type": "code",
   "execution_count": null,
   "id": "a95602bd",
   "metadata": {},
   "outputs": [
    {
     "data": {
      "text/plain": [
       "array([[ 1.        , -0.00277044],\n",
       "       [-0.00277044,  1.        ]])"
      ]
     },
     "execution_count": 22,
     "metadata": {},
     "output_type": "execute_result"
    }
   ],
   "source": [
    "#matriz de correlacion de tiempo (sin minutos) y total\n",
    "tiempo=df[['Time']].to_numpy()\n",
    "horas=np.array([int(h[0].split(':')[0]) for h in tiempo])\n",
    "total=df[['Total']].to_numpy()\n",
    "total_b=total.flatten()\n",
    "total_b\n",
    "c=np.corrcoef(horas, total_b)\n",
    "c\n"
   ]
  },
  {
   "cell_type": "code",
   "execution_count": 30,
   "id": "8a113026",
   "metadata": {},
   "outputs": [
    {
     "data": {
      "text/plain": [
       "array([[ 1.        , -0.00877751],\n",
       "       [-0.00877751,  1.        ]])"
      ]
     },
     "execution_count": 30,
     "metadata": {},
     "output_type": "execute_result"
    }
   ],
   "source": [
    "#matriz de correlacion entre unit price y rating\n",
    "unit_price_b=unit_price.flatten()\n",
    "raten=df[['Rating']].to_numpy()\n",
    "raten_b=raten.flatten()\n",
    "r=np.corrcoef(unit_price_b, raten_b)\n",
    "r"
   ]
  }
 ],
 "metadata": {
  "kernelspec": {
   "display_name": "Python 3",
   "language": "python",
   "name": "python3"
  },
  "language_info": {
   "codemirror_mode": {
    "name": "ipython",
    "version": 3
   },
   "file_extension": ".py",
   "mimetype": "text/x-python",
   "name": "python",
   "nbconvert_exporter": "python",
   "pygments_lexer": "ipython3",
   "version": "3.13.3"
  }
 },
 "nbformat": 4,
 "nbformat_minor": 5
}
